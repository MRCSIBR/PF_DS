{
 "cells": [
  {
   "cell_type": "markdown",
   "id": "5873c282-84e3-4e76-8648-b9c7cbdfe514",
   "metadata": {},
   "source": [
    "# Analisis Mercado Inmobiliario\n",
    "\n",
    "La ley de oferta y demanda es un principio económico fundamental que explica cómo cambian los precios cuando cambia la oferta de bienes y servicios o la demanda de los mismos\n",
    "La relación entre la oferta y la demanda es indirecta, lo que significa que cuando:\n",
    "**la oferta aumenta, los precios disminuyen y la demanda aumenta**\n",
    "\n",
    "Por el contrario, **cuando la oferta disminuye, los precios aumentan y la demanda disminuye**"
   ]
  },
  {
   "cell_type": "code",
   "execution_count": 37,
   "id": "4cb54e40-b57b-431e-b18e-d92809428093",
   "metadata": {
    "executionCancelledAt": null,
    "executionTime": 49,
    "lastExecutedAt": 1695739123316,
    "lastScheduledRunId": null,
    "lastSuccessfullyExecutedCode": "import numpy as np\nimport pandas as pd\nimport matplotlib.pyplot as plt"
   },
   "outputs": [],
   "source": [
    "import numpy as np\n",
    "import pandas as pd\n",
    "import matplotlib.pyplot as plt"
   ]
  },
  {
   "cell_type": "markdown",
   "id": "795f42e9-3f2a-4c58-8339-0717ad544560",
   "metadata": {},
   "source": [
    "## Bajamos los datos de Redfin https://www.redfin.com/news/data-center/\n",
    "\n",
    "Bajo el titulo Redfin Monthly Housing Market Data, podemos bajar un .csv o .xlsx desde download --> crosstab"
   ]
  },
  {
   "cell_type": "code",
   "execution_count": 38,
   "id": "639c179a-f59f-4ca2-91d2-96ac096935a7",
   "metadata": {
    "chartConfig": {
     "bar": {
      "hasRoundedCorners": true,
      "stacked": false
     },
     "type": "bar",
     "version": "v1",
     "x": {
      "aggregate": null,
      "field": "Median Sale Price",
      "sortOrder": "ascending",
      "type": "number"
     },
     "y": {
      "field": "Homes Sold",
      "type": "integer"
     }
    },
    "executionCancelledAt": null,
    "executionTime": 274,
    "lastExecutedAt": 1695739131643,
    "lastScheduledRunId": null,
    "lastSuccessfullyExecutedCode": "import pandas as pd\n\ndf = pd.read_excel('data.xlsx')\n\ndf.head()",
    "outputsMetadata": {
     "0": {
      "height": 193,
      "type": "dataFrame"
     }
    },
    "visualizeDataframe": false
   },
   "outputs": [
    {
     "data": {
      "application/com.datacamp.data-table.v1+json": {
       "table": {
        "data": [
         {
          " Inventory YoY ": -0.1759187135,
          "Average Sale To List": 0.9562298659,
          "Average Sale To List MoM ": -0.0011985387,
          "Average Sale To List YoY ": 0.0018172811,
          "Days on Market": 96,
          "Days on Market MoM": 2,
          "Days on Market YoY": -7,
          "Homes Sold": 273143,
          "Homes Sold MoM ": -0.2336799951,
          "Homes Sold YoY ": 0.082201503,
          "Inventory": 2076237,
          "Inventory MoM ": 0.0033278896,
          "Median Sale Price": 159098,
          "Median Sale Price MoM ": -0.0650356382,
          "Median Sale Price YoY ": -0.0445890734,
          "New Listings": 481453,
          "New Listings MoM ": 0.5042218211,
          "New Listings YoY ": -0.0334615703,
          "Region": " National",
          "Week of Period End": "January 29, 2012",
          "index": 0
         },
         {
          " Inventory YoY ": -0.1701552111,
          "Average Sale To List": 0.9580258141,
          "Average Sale To List MoM ": 0.0017959483,
          "Average Sale To List YoY ": 0.0029355207,
          "Days on Market": 97,
          "Days on Market MoM": 0,
          "Days on Market YoY": -11,
          "Homes Sold": 301346,
          "Homes Sold MoM ": 0.1032530275,
          "Homes Sold YoY ": 0.1357827819,
          "Inventory": 2098630,
          "Inventory MoM ": 0.0107853733,
          "Median Sale Price": 160504,
          "Median Sale Price MoM ": 0.008834369,
          "Median Sale Price YoY ": -0.0133818295,
          "New Listings": 516322,
          "New Listings MoM ": 0.0724240379,
          "New Listings YoY ": 0.0481863292,
          "Region": null,
          "Week of Period End": "February 26, 2012",
          "index": 1
         },
         {
          " Inventory YoY ": -0.1713885031,
          "Average Sale To List": 0.9618276014,
          "Average Sale To List MoM ": 0.0038017873,
          "Average Sale To List YoY ": 0.0059551828,
          "Days on Market": 93,
          "Days on Market MoM": -4,
          "Days on Market YoY": -12,
          "Homes Sold": 389496,
          "Homes Sold MoM ": 0.2925184265,
          "Homes Sold YoY ": 0.0662038809,
          "Inventory": 2139120,
          "Inventory MoM ": 0.0192934968,
          "Median Sale Price": 171239,
          "Median Sale Price MoM ": 0.0668866869,
          "Median Sale Price YoY ": 0.0423738591,
          "New Listings": 624593,
          "New Listings MoM ": 0.2096967689,
          "New Listings YoY ": -0.0551538153,
          "Region": null,
          "Week of Period End": "March 25, 2012",
          "index": 2
         },
         {
          " Inventory YoY ": -0.1724017809,
          "Average Sale To List": 0.965191053,
          "Average Sale To List MoM ": 0.0033634516,
          "Average Sale To List YoY ": 0.007000382,
          "Days on Market": 81,
          "Days on Market MoM": -12,
          "Days on Market YoY": -16,
          "Homes Sold": 400243,
          "Homes Sold MoM ": 0.0275922556,
          "Homes Sold YoY ": 0.0811349197,
          "Inventory": 2175284,
          "Inventory MoM ": 0.0169063579,
          "Median Sale Price": 178099,
          "Median Sale Price MoM ": 0.0400591288,
          "Median Sale Price YoY ": 0.0617780231,
          "New Listings": 609368,
          "New Listings MoM ": -0.024377045,
          "New Listings YoY ": -0.0274217528,
          "Region": null,
          "Week of Period End": "April 29, 2012",
          "index": 3
         },
         {
          " Inventory YoY ": -0.1770705331,
          "Average Sale To List": 0.9685994699,
          "Average Sale To List MoM ": 0.0034084168,
          "Average Sale To List YoY ": 0.0096668181,
          "Days on Market": 72,
          "Days on Market MoM": -8,
          "Days on Market YoY": -17,
          "Homes Sold": 458963,
          "Homes Sold MoM ": 0.1467110203,
          "Homes Sold YoY ": 0.1630530474,
          "Inventory": 2184134,
          "Inventory MoM ": 0.0040682354,
          "Median Sale Price": 186067,
          "Median Sale Price MoM ": 0.0447370875,
          "Median Sale Price YoY ": 0.0790588816,
          "New Listings": 611494,
          "New Listings MoM ": 0.0034892591,
          "New Listings YoY ": -0.0042740673,
          "Region": null,
          "Week of Period End": "May 27, 2012",
          "index": 4
         }
        ],
        "schema": {
         "fields": [
          {
           "name": "index",
           "type": "integer"
          },
          {
           "name": "Region",
           "type": "string"
          },
          {
           "name": "Week of Period End",
           "type": "string"
          },
          {
           "name": "Median Sale Price",
           "type": "number"
          },
          {
           "name": "Median Sale Price MoM ",
           "type": "number"
          },
          {
           "name": "Median Sale Price YoY ",
           "type": "number"
          },
          {
           "name": "Homes Sold",
           "type": "integer"
          },
          {
           "name": "Homes Sold MoM ",
           "type": "number"
          },
          {
           "name": "Homes Sold YoY ",
           "type": "number"
          },
          {
           "name": "New Listings",
           "type": "integer"
          },
          {
           "name": "New Listings MoM ",
           "type": "number"
          },
          {
           "name": "New Listings YoY ",
           "type": "number"
          },
          {
           "name": "Inventory",
           "type": "integer"
          },
          {
           "name": "Inventory MoM ",
           "type": "number"
          },
          {
           "name": " Inventory YoY ",
           "type": "number"
          },
          {
           "name": "Days on Market",
           "type": "integer"
          },
          {
           "name": "Days on Market MoM",
           "type": "integer"
          },
          {
           "name": "Days on Market YoY",
           "type": "integer"
          },
          {
           "name": "Average Sale To List",
           "type": "number"
          },
          {
           "name": "Average Sale To List MoM ",
           "type": "number"
          },
          {
           "name": "Average Sale To List YoY ",
           "type": "number"
          }
         ],
         "pandas_version": "1.4.0",
         "primaryKey": [
          "index"
         ]
        }
       },
       "total_rows": 5,
       "truncation_type": null
      },
      "text/html": [
       "<div>\n",
       "<style scoped>\n",
       "    .dataframe tbody tr th:only-of-type {\n",
       "        vertical-align: middle;\n",
       "    }\n",
       "\n",
       "    .dataframe tbody tr th {\n",
       "        vertical-align: top;\n",
       "    }\n",
       "\n",
       "    .dataframe thead th {\n",
       "        text-align: right;\n",
       "    }\n",
       "</style>\n",
       "<table border=\"1\" class=\"dataframe\">\n",
       "  <thead>\n",
       "    <tr style=\"text-align: right;\">\n",
       "      <th></th>\n",
       "      <th>Region</th>\n",
       "      <th>Week of Period End</th>\n",
       "      <th>Median Sale Price</th>\n",
       "      <th>Median Sale Price MoM</th>\n",
       "      <th>Median Sale Price YoY</th>\n",
       "      <th>Homes Sold</th>\n",
       "      <th>Homes Sold MoM</th>\n",
       "      <th>Homes Sold YoY</th>\n",
       "      <th>New Listings</th>\n",
       "      <th>New Listings MoM</th>\n",
       "      <th>New Listings YoY</th>\n",
       "      <th>Inventory</th>\n",
       "      <th>Inventory MoM</th>\n",
       "      <th>Inventory YoY</th>\n",
       "      <th>Days on Market</th>\n",
       "      <th>Days on Market MoM</th>\n",
       "      <th>Days on Market YoY</th>\n",
       "      <th>Average Sale To List</th>\n",
       "      <th>Average Sale To List MoM</th>\n",
       "      <th>Average Sale To List YoY</th>\n",
       "    </tr>\n",
       "  </thead>\n",
       "  <tbody>\n",
       "    <tr>\n",
       "      <th>0</th>\n",
       "      <td>National</td>\n",
       "      <td>January 29, 2012</td>\n",
       "      <td>159098.0</td>\n",
       "      <td>-0.065036</td>\n",
       "      <td>-0.044589</td>\n",
       "      <td>273143</td>\n",
       "      <td>-0.233680</td>\n",
       "      <td>0.082202</td>\n",
       "      <td>481453</td>\n",
       "      <td>0.504222</td>\n",
       "      <td>-0.033462</td>\n",
       "      <td>2076237</td>\n",
       "      <td>0.003328</td>\n",
       "      <td>-0.175919</td>\n",
       "      <td>96</td>\n",
       "      <td>2</td>\n",
       "      <td>-7</td>\n",
       "      <td>0.956230</td>\n",
       "      <td>-0.001199</td>\n",
       "      <td>0.001817</td>\n",
       "    </tr>\n",
       "    <tr>\n",
       "      <th>1</th>\n",
       "      <td>NaN</td>\n",
       "      <td>February 26, 2012</td>\n",
       "      <td>160504.0</td>\n",
       "      <td>0.008834</td>\n",
       "      <td>-0.013382</td>\n",
       "      <td>301346</td>\n",
       "      <td>0.103253</td>\n",
       "      <td>0.135783</td>\n",
       "      <td>516322</td>\n",
       "      <td>0.072424</td>\n",
       "      <td>0.048186</td>\n",
       "      <td>2098630</td>\n",
       "      <td>0.010785</td>\n",
       "      <td>-0.170155</td>\n",
       "      <td>97</td>\n",
       "      <td>0</td>\n",
       "      <td>-11</td>\n",
       "      <td>0.958026</td>\n",
       "      <td>0.001796</td>\n",
       "      <td>0.002936</td>\n",
       "    </tr>\n",
       "    <tr>\n",
       "      <th>2</th>\n",
       "      <td>NaN</td>\n",
       "      <td>March 25, 2012</td>\n",
       "      <td>171239.0</td>\n",
       "      <td>0.066887</td>\n",
       "      <td>0.042374</td>\n",
       "      <td>389496</td>\n",
       "      <td>0.292518</td>\n",
       "      <td>0.066204</td>\n",
       "      <td>624593</td>\n",
       "      <td>0.209697</td>\n",
       "      <td>-0.055154</td>\n",
       "      <td>2139120</td>\n",
       "      <td>0.019293</td>\n",
       "      <td>-0.171389</td>\n",
       "      <td>93</td>\n",
       "      <td>-4</td>\n",
       "      <td>-12</td>\n",
       "      <td>0.961828</td>\n",
       "      <td>0.003802</td>\n",
       "      <td>0.005955</td>\n",
       "    </tr>\n",
       "    <tr>\n",
       "      <th>3</th>\n",
       "      <td>NaN</td>\n",
       "      <td>April 29, 2012</td>\n",
       "      <td>178099.0</td>\n",
       "      <td>0.040059</td>\n",
       "      <td>0.061778</td>\n",
       "      <td>400243</td>\n",
       "      <td>0.027592</td>\n",
       "      <td>0.081135</td>\n",
       "      <td>609368</td>\n",
       "      <td>-0.024377</td>\n",
       "      <td>-0.027422</td>\n",
       "      <td>2175284</td>\n",
       "      <td>0.016906</td>\n",
       "      <td>-0.172402</td>\n",
       "      <td>81</td>\n",
       "      <td>-12</td>\n",
       "      <td>-16</td>\n",
       "      <td>0.965191</td>\n",
       "      <td>0.003363</td>\n",
       "      <td>0.007000</td>\n",
       "    </tr>\n",
       "    <tr>\n",
       "      <th>4</th>\n",
       "      <td>NaN</td>\n",
       "      <td>May 27, 2012</td>\n",
       "      <td>186067.0</td>\n",
       "      <td>0.044737</td>\n",
       "      <td>0.079059</td>\n",
       "      <td>458963</td>\n",
       "      <td>0.146711</td>\n",
       "      <td>0.163053</td>\n",
       "      <td>611494</td>\n",
       "      <td>0.003489</td>\n",
       "      <td>-0.004274</td>\n",
       "      <td>2184134</td>\n",
       "      <td>0.004068</td>\n",
       "      <td>-0.177071</td>\n",
       "      <td>72</td>\n",
       "      <td>-8</td>\n",
       "      <td>-17</td>\n",
       "      <td>0.968599</td>\n",
       "      <td>0.003408</td>\n",
       "      <td>0.009667</td>\n",
       "    </tr>\n",
       "  </tbody>\n",
       "</table>\n",
       "</div>"
      ],
      "text/plain": [
       "      Region  ... Average Sale To List YoY \n",
       "0   National  ...                  0.001817\n",
       "1        NaN  ...                  0.002936\n",
       "2        NaN  ...                  0.005955\n",
       "3        NaN  ...                  0.007000\n",
       "4        NaN  ...                  0.009667\n",
       "\n",
       "[5 rows x 20 columns]"
      ]
     },
     "execution_count": 38,
     "metadata": {},
     "output_type": "execute_result"
    }
   ],
   "source": [
    "import pandas as pd\n",
    "\n",
    "df = pd.read_excel('data.xlsx')\n",
    "\n",
    "df.head()"
   ]
  },
  {
   "cell_type": "markdown",
   "id": "367d838b",
   "metadata": {
    "executionCancelledAt": null,
    "executionTime": 49,
    "lastExecutedAt": 1695739430728,
    "lastScheduledRunId": null,
    "lastSuccessfullyExecutedCode": "# Crear columna 'date' para normalizar la columna 'Week of Period End'"
   },
   "source": [
    "## Crear columna 'date' para normalizar la columna 'Week of Period End'"
   ]
  },
  {
   "cell_type": "code",
   "execution_count": 39,
   "id": "9a47c1c4-2b7a-4134-a2e8-f5ed61a05a85",
   "metadata": {
    "executionCancelledAt": null,
    "executionTime": 116,
    "lastExecutedAt": 1695739138763,
    "lastScheduledRunId": null,
    "lastSuccessfullyExecutedCode": "# Convert 'Week of Period End' column to datetime format\ndf['date'] = pd.to_datetime(df['Week of Period End'])\n\n# Normalize the date to the beginning of the week\ndf['date'] = df['date'] - pd.to_timedelta(df['date'].dt.dayofweek, unit='d')\n\ndf.head()",
    "outputsMetadata": {
     "0": {
      "height": 193,
      "type": "dataFrame"
     }
    }
   },
   "outputs": [
    {
     "data": {
      "application/com.datacamp.data-table.v1+json": {
       "table": {
        "data": [
         {
          " Inventory YoY ": -0.1759187135,
          "Average Sale To List": 0.9562298659,
          "Average Sale To List MoM ": -0.0011985387,
          "Average Sale To List YoY ": 0.0018172811,
          "Days on Market": 96,
          "Days on Market MoM": 2,
          "Days on Market YoY": -7,
          "Homes Sold": 273143,
          "Homes Sold MoM ": -0.2336799951,
          "Homes Sold YoY ": 0.082201503,
          "Inventory": 2076237,
          "Inventory MoM ": 0.0033278896,
          "Median Sale Price": 159098,
          "Median Sale Price MoM ": -0.0650356382,
          "Median Sale Price YoY ": -0.0445890734,
          "New Listings": 481453,
          "New Listings MoM ": 0.5042218211,
          "New Listings YoY ": -0.0334615703,
          "Region": " National",
          "Week of Period End": "January 29, 2012",
          "date": "2012-01-23T00:00:00.000",
          "index": 0
         },
         {
          " Inventory YoY ": -0.1701552111,
          "Average Sale To List": 0.9580258141,
          "Average Sale To List MoM ": 0.0017959483,
          "Average Sale To List YoY ": 0.0029355207,
          "Days on Market": 97,
          "Days on Market MoM": 0,
          "Days on Market YoY": -11,
          "Homes Sold": 301346,
          "Homes Sold MoM ": 0.1032530275,
          "Homes Sold YoY ": 0.1357827819,
          "Inventory": 2098630,
          "Inventory MoM ": 0.0107853733,
          "Median Sale Price": 160504,
          "Median Sale Price MoM ": 0.008834369,
          "Median Sale Price YoY ": -0.0133818295,
          "New Listings": 516322,
          "New Listings MoM ": 0.0724240379,
          "New Listings YoY ": 0.0481863292,
          "Region": null,
          "Week of Period End": "February 26, 2012",
          "date": "2012-02-20T00:00:00.000",
          "index": 1
         },
         {
          " Inventory YoY ": -0.1713885031,
          "Average Sale To List": 0.9618276014,
          "Average Sale To List MoM ": 0.0038017873,
          "Average Sale To List YoY ": 0.0059551828,
          "Days on Market": 93,
          "Days on Market MoM": -4,
          "Days on Market YoY": -12,
          "Homes Sold": 389496,
          "Homes Sold MoM ": 0.2925184265,
          "Homes Sold YoY ": 0.0662038809,
          "Inventory": 2139120,
          "Inventory MoM ": 0.0192934968,
          "Median Sale Price": 171239,
          "Median Sale Price MoM ": 0.0668866869,
          "Median Sale Price YoY ": 0.0423738591,
          "New Listings": 624593,
          "New Listings MoM ": 0.2096967689,
          "New Listings YoY ": -0.0551538153,
          "Region": null,
          "Week of Period End": "March 25, 2012",
          "date": "2012-03-19T00:00:00.000",
          "index": 2
         },
         {
          " Inventory YoY ": -0.1724017809,
          "Average Sale To List": 0.965191053,
          "Average Sale To List MoM ": 0.0033634516,
          "Average Sale To List YoY ": 0.007000382,
          "Days on Market": 81,
          "Days on Market MoM": -12,
          "Days on Market YoY": -16,
          "Homes Sold": 400243,
          "Homes Sold MoM ": 0.0275922556,
          "Homes Sold YoY ": 0.0811349197,
          "Inventory": 2175284,
          "Inventory MoM ": 0.0169063579,
          "Median Sale Price": 178099,
          "Median Sale Price MoM ": 0.0400591288,
          "Median Sale Price YoY ": 0.0617780231,
          "New Listings": 609368,
          "New Listings MoM ": -0.024377045,
          "New Listings YoY ": -0.0274217528,
          "Region": null,
          "Week of Period End": "April 29, 2012",
          "date": "2012-04-23T00:00:00.000",
          "index": 3
         },
         {
          " Inventory YoY ": -0.1770705331,
          "Average Sale To List": 0.9685994699,
          "Average Sale To List MoM ": 0.0034084168,
          "Average Sale To List YoY ": 0.0096668181,
          "Days on Market": 72,
          "Days on Market MoM": -8,
          "Days on Market YoY": -17,
          "Homes Sold": 458963,
          "Homes Sold MoM ": 0.1467110203,
          "Homes Sold YoY ": 0.1630530474,
          "Inventory": 2184134,
          "Inventory MoM ": 0.0040682354,
          "Median Sale Price": 186067,
          "Median Sale Price MoM ": 0.0447370875,
          "Median Sale Price YoY ": 0.0790588816,
          "New Listings": 611494,
          "New Listings MoM ": 0.0034892591,
          "New Listings YoY ": -0.0042740673,
          "Region": null,
          "Week of Period End": "May 27, 2012",
          "date": "2012-05-21T00:00:00.000",
          "index": 4
         }
        ],
        "schema": {
         "fields": [
          {
           "name": "index",
           "type": "integer"
          },
          {
           "name": "Region",
           "type": "string"
          },
          {
           "name": "Week of Period End",
           "type": "string"
          },
          {
           "name": "Median Sale Price",
           "type": "number"
          },
          {
           "name": "Median Sale Price MoM ",
           "type": "number"
          },
          {
           "name": "Median Sale Price YoY ",
           "type": "number"
          },
          {
           "name": "Homes Sold",
           "type": "integer"
          },
          {
           "name": "Homes Sold MoM ",
           "type": "number"
          },
          {
           "name": "Homes Sold YoY ",
           "type": "number"
          },
          {
           "name": "New Listings",
           "type": "integer"
          },
          {
           "name": "New Listings MoM ",
           "type": "number"
          },
          {
           "name": "New Listings YoY ",
           "type": "number"
          },
          {
           "name": "Inventory",
           "type": "integer"
          },
          {
           "name": "Inventory MoM ",
           "type": "number"
          },
          {
           "name": " Inventory YoY ",
           "type": "number"
          },
          {
           "name": "Days on Market",
           "type": "integer"
          },
          {
           "name": "Days on Market MoM",
           "type": "integer"
          },
          {
           "name": "Days on Market YoY",
           "type": "integer"
          },
          {
           "name": "Average Sale To List",
           "type": "number"
          },
          {
           "name": "Average Sale To List MoM ",
           "type": "number"
          },
          {
           "name": "Average Sale To List YoY ",
           "type": "number"
          },
          {
           "name": "date",
           "type": "datetime"
          }
         ],
         "pandas_version": "1.4.0",
         "primaryKey": [
          "index"
         ]
        }
       },
       "total_rows": 5,
       "truncation_type": null
      },
      "text/html": [
       "<div>\n",
       "<style scoped>\n",
       "    .dataframe tbody tr th:only-of-type {\n",
       "        vertical-align: middle;\n",
       "    }\n",
       "\n",
       "    .dataframe tbody tr th {\n",
       "        vertical-align: top;\n",
       "    }\n",
       "\n",
       "    .dataframe thead th {\n",
       "        text-align: right;\n",
       "    }\n",
       "</style>\n",
       "<table border=\"1\" class=\"dataframe\">\n",
       "  <thead>\n",
       "    <tr style=\"text-align: right;\">\n",
       "      <th></th>\n",
       "      <th>Region</th>\n",
       "      <th>Week of Period End</th>\n",
       "      <th>Median Sale Price</th>\n",
       "      <th>Median Sale Price MoM</th>\n",
       "      <th>Median Sale Price YoY</th>\n",
       "      <th>Homes Sold</th>\n",
       "      <th>Homes Sold MoM</th>\n",
       "      <th>Homes Sold YoY</th>\n",
       "      <th>New Listings</th>\n",
       "      <th>New Listings MoM</th>\n",
       "      <th>New Listings YoY</th>\n",
       "      <th>Inventory</th>\n",
       "      <th>Inventory MoM</th>\n",
       "      <th>Inventory YoY</th>\n",
       "      <th>Days on Market</th>\n",
       "      <th>Days on Market MoM</th>\n",
       "      <th>Days on Market YoY</th>\n",
       "      <th>Average Sale To List</th>\n",
       "      <th>Average Sale To List MoM</th>\n",
       "      <th>Average Sale To List YoY</th>\n",
       "      <th>date</th>\n",
       "    </tr>\n",
       "  </thead>\n",
       "  <tbody>\n",
       "    <tr>\n",
       "      <th>0</th>\n",
       "      <td>National</td>\n",
       "      <td>January 29, 2012</td>\n",
       "      <td>159098.0</td>\n",
       "      <td>-0.065036</td>\n",
       "      <td>-0.044589</td>\n",
       "      <td>273143</td>\n",
       "      <td>-0.233680</td>\n",
       "      <td>0.082202</td>\n",
       "      <td>481453</td>\n",
       "      <td>0.504222</td>\n",
       "      <td>-0.033462</td>\n",
       "      <td>2076237</td>\n",
       "      <td>0.003328</td>\n",
       "      <td>-0.175919</td>\n",
       "      <td>96</td>\n",
       "      <td>2</td>\n",
       "      <td>-7</td>\n",
       "      <td>0.956230</td>\n",
       "      <td>-0.001199</td>\n",
       "      <td>0.001817</td>\n",
       "      <td>2012-01-23</td>\n",
       "    </tr>\n",
       "    <tr>\n",
       "      <th>1</th>\n",
       "      <td>NaN</td>\n",
       "      <td>February 26, 2012</td>\n",
       "      <td>160504.0</td>\n",
       "      <td>0.008834</td>\n",
       "      <td>-0.013382</td>\n",
       "      <td>301346</td>\n",
       "      <td>0.103253</td>\n",
       "      <td>0.135783</td>\n",
       "      <td>516322</td>\n",
       "      <td>0.072424</td>\n",
       "      <td>0.048186</td>\n",
       "      <td>2098630</td>\n",
       "      <td>0.010785</td>\n",
       "      <td>-0.170155</td>\n",
       "      <td>97</td>\n",
       "      <td>0</td>\n",
       "      <td>-11</td>\n",
       "      <td>0.958026</td>\n",
       "      <td>0.001796</td>\n",
       "      <td>0.002936</td>\n",
       "      <td>2012-02-20</td>\n",
       "    </tr>\n",
       "    <tr>\n",
       "      <th>2</th>\n",
       "      <td>NaN</td>\n",
       "      <td>March 25, 2012</td>\n",
       "      <td>171239.0</td>\n",
       "      <td>0.066887</td>\n",
       "      <td>0.042374</td>\n",
       "      <td>389496</td>\n",
       "      <td>0.292518</td>\n",
       "      <td>0.066204</td>\n",
       "      <td>624593</td>\n",
       "      <td>0.209697</td>\n",
       "      <td>-0.055154</td>\n",
       "      <td>2139120</td>\n",
       "      <td>0.019293</td>\n",
       "      <td>-0.171389</td>\n",
       "      <td>93</td>\n",
       "      <td>-4</td>\n",
       "      <td>-12</td>\n",
       "      <td>0.961828</td>\n",
       "      <td>0.003802</td>\n",
       "      <td>0.005955</td>\n",
       "      <td>2012-03-19</td>\n",
       "    </tr>\n",
       "    <tr>\n",
       "      <th>3</th>\n",
       "      <td>NaN</td>\n",
       "      <td>April 29, 2012</td>\n",
       "      <td>178099.0</td>\n",
       "      <td>0.040059</td>\n",
       "      <td>0.061778</td>\n",
       "      <td>400243</td>\n",
       "      <td>0.027592</td>\n",
       "      <td>0.081135</td>\n",
       "      <td>609368</td>\n",
       "      <td>-0.024377</td>\n",
       "      <td>-0.027422</td>\n",
       "      <td>2175284</td>\n",
       "      <td>0.016906</td>\n",
       "      <td>-0.172402</td>\n",
       "      <td>81</td>\n",
       "      <td>-12</td>\n",
       "      <td>-16</td>\n",
       "      <td>0.965191</td>\n",
       "      <td>0.003363</td>\n",
       "      <td>0.007000</td>\n",
       "      <td>2012-04-23</td>\n",
       "    </tr>\n",
       "    <tr>\n",
       "      <th>4</th>\n",
       "      <td>NaN</td>\n",
       "      <td>May 27, 2012</td>\n",
       "      <td>186067.0</td>\n",
       "      <td>0.044737</td>\n",
       "      <td>0.079059</td>\n",
       "      <td>458963</td>\n",
       "      <td>0.146711</td>\n",
       "      <td>0.163053</td>\n",
       "      <td>611494</td>\n",
       "      <td>0.003489</td>\n",
       "      <td>-0.004274</td>\n",
       "      <td>2184134</td>\n",
       "      <td>0.004068</td>\n",
       "      <td>-0.177071</td>\n",
       "      <td>72</td>\n",
       "      <td>-8</td>\n",
       "      <td>-17</td>\n",
       "      <td>0.968599</td>\n",
       "      <td>0.003408</td>\n",
       "      <td>0.009667</td>\n",
       "      <td>2012-05-21</td>\n",
       "    </tr>\n",
       "  </tbody>\n",
       "</table>\n",
       "</div>"
      ],
      "text/plain": [
       "      Region Week of Period End  ...  Average Sale To List YoY        date\n",
       "0   National   January 29, 2012  ...                   0.001817 2012-01-23\n",
       "1        NaN  February 26, 2012  ...                   0.002936 2012-02-20\n",
       "2        NaN     March 25, 2012  ...                   0.005955 2012-03-19\n",
       "3        NaN     April 29, 2012  ...                   0.007000 2012-04-23\n",
       "4        NaN       May 27, 2012  ...                   0.009667 2012-05-21\n",
       "\n",
       "[5 rows x 21 columns]"
      ]
     },
     "execution_count": 39,
     "metadata": {},
     "output_type": "execute_result"
    }
   ],
   "source": [
    "# Convertir columna 'Week of Period End' a formato datetime\n",
    "df['date'] = pd.to_datetime(df['Week of Period End'])\n",
    "\n",
    "# Normalize the date to the beginning of the week\n",
    "df['date'] = df['date'] - pd.to_timedelta(df['date'].dt.dayofweek, unit='d')\n",
    "\n",
    "df.head()"
   ]
  },
  {
   "cell_type": "markdown",
   "id": "7b9575a3-4fa2-44c8-ae5a-3c97e8839e66",
   "metadata": {},
   "source": [
    "## Tendecias por mes\n",
    "\n",
    "En el siguiente grafico se puede visualizar un incremento en las ofertas de viviendas con un pico en el mes de Mayo\n",
    "El mes con menor cantidad de nuevos listados 'new listings' es Diciembre.\n",
    "\n",
    "**Buscar correlaciones entre el aumento de nuevas ofertas en mayo y los precios para comprobar si hay menores precios en ese periodo y por lo tanto comprobar si es conveniente invertir.** \n",
    "\n"
   ]
  },
  {
   "cell_type": "code",
   "execution_count": 41,
   "id": "9c66771c-ae4e-4477-b334-ce5c7d987eb6",
   "metadata": {
    "executionCancelledAt": null,
    "executionTime": 232,
    "lastExecutedAt": 1695739148479,
    "lastScheduledRunId": null,
    "lastSuccessfullyExecutedCode": "plt.figure(figsize=(12, 6))\n\ndf['Period End'] = pd.to_datetime(df['Week of Period End'])\ndf.set_index('Period End', inplace=True)\n\nmonthly_new_listings = df['New Listings'].resample('M').sum()\nmonthly_new_listings.plot()\nplt.show()"
   },
   "outputs": [
    {
     "data": {
      "image/png": "[encoded data removed]",
      "text/plain": [
       "<Figure size 1200x600 with 1 Axes>"
      ]
     },
     "metadata": {},
     "output_type": "display_data"
    }
   ],
   "source": [
    "plt.figure(figsize=(12, 6))\n",
    "\n",
    "df['Period End'] = pd.to_datetime(df['Week of Period End'])\n",
    "df.set_index('Period End', inplace=True)\n",
    "\n",
    "monthly_new_listings = df['New Listings'].resample('M').sum()\n",
    "monthly_new_listings.plot()\n",
    "plt.show()"
   ]
  },
  {
   "cell_type": "code",
   "execution_count": 42,
   "id": "c4850960-05b7-4317-a926-a16fe6ba8880",
   "metadata": {
    "executionCancelledAt": null,
    "executionTime": 379,
    "lastExecutedAt": 1695739153011,
    "lastScheduledRunId": null,
    "lastSuccessfullyExecutedCode": "df['Period End'] = pd.to_datetime(df['Week of Period End'])\ndf.set_index('Period End', inplace=True)\nmonthly_new_listings = df['New Listings'].resample('M').sum()\n\nplt.figure(figsize=(12, 9))\nplt.bar(monthly_new_listings.index.strftime('%B'), monthly_new_listings)\nplt.xlabel('Month')\nplt.ylabel('New Listings')\nplt.show()\n"
   },
   "outputs": [
    {
     "data": {
      "image/png": "[encoded data removed]",
      "text/plain": [
       "<Figure size 1200x900 with 1 Axes>"
      ]
     },
     "metadata": {},
     "output_type": "display_data"
    }
   ],
   "source": [
    "df['Period End'] = pd.to_datetime(df['Week of Period End'])\n",
    "df.set_index('Period End', inplace=True)\n",
    "monthly_new_listings = df['New Listings'].resample('M').sum()\n",
    "\n",
    "plt.figure(figsize=(12, 9))\n",
    "plt.bar(monthly_new_listings.index.strftime('%B'), monthly_new_listings)\n",
    "plt.xlabel('Mes')\n",
    "plt.ylabel('New Listings / Nuevos Listados')\n",
    "plt.show()\n"
   ]
  }
 ],
 "metadata": {
  "colab": {
   "name": "Welcome to DataCamp Workspaces.ipynb",
   "provenance": []
  },
  "kernelspec": {
   "display_name": "Python 3",
   "language": "python",
   "name": "python3"
  },
  "language_info": {
   "codemirror_mode": {
    "name": "ipython",
    "version": 3
   },
   "file_extension": ".py",
   "mimetype": "text/x-python",
   "name": "python",
   "nbconvert_exporter": "python",
   "pygments_lexer": "ipython3",
   "version": "3.10.13"
  }
 },
 "nbformat": 4,
 "nbformat_minor": 5
}
